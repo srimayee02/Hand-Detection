{
 "cells": [
  {
   "cell_type": "code",
   "execution_count": 5,
   "metadata": {},
   "outputs": [
    {
     "name": "stdout",
     "output_type": "stream",
     "text": [
      "Collecting scikit-learn\n",
      "  Downloading scikit_learn-1.2.1-cp39-cp39-win_amd64.whl (8.4 MB)\n",
      "     ---------------------------------------- 8.4/8.4 MB 753.6 kB/s eta 0:00:00\n",
      "Collecting threadpoolctl>=2.0.0\n",
      "  Downloading threadpoolctl-3.1.0-py3-none-any.whl (14 kB)\n",
      "Requirement already satisfied: numpy>=1.17.3 in d:\\anaconda\\envs\\tensorflow\\lib\\site-packages (from scikit-learn) (1.23.5)\n",
      "Requirement already satisfied: scipy>=1.3.2 in d:\\anaconda\\envs\\tensorflow\\lib\\site-packages (from scikit-learn) (1.9.3)\n",
      "Collecting joblib>=1.1.1\n",
      "  Downloading joblib-1.2.0-py3-none-any.whl (297 kB)\n",
      "     -------------------------------------- 298.0/298.0 kB 1.5 MB/s eta 0:00:00\n",
      "Installing collected packages: threadpoolctl, joblib, scikit-learn\n",
      "Successfully installed joblib-1.2.0 scikit-learn-1.2.1 threadpoolctl-3.1.0\n"
     ]
    }
   ],
   "source": [
    "!pip install scikit-learn"
   ]
  },
  {
   "cell_type": "code",
   "execution_count": 6,
   "metadata": {
    "id": "igMyGnjE9hEp"
   },
   "outputs": [],
   "source": [
    "import csv\n",
    "\n",
    "import numpy as np\n",
    "import tensorflow as tf\n",
    "from sklearn.model_selection import train_test_split\n",
    "\n",
    "RANDOM_SEED = 42"
   ]
  },
  {
   "cell_type": "code",
   "execution_count": 2,
   "metadata": {
    "colab": {
     "base_uri": "https://localhost:8080/"
    },
    "id": "hu0dCrAAh6Tt",
    "outputId": "dc4b71b6-f935-4a08-8b96-1f5ee4f4b152"
   },
   "outputs": [
    {
     "name": "stdout",
     "output_type": "stream",
     "text": [
      "Mounted at /content/drive\n"
     ]
    }
   ],
   "source": [
    "#from google.colab import drive\n",
    "#drive.mount('/content/drive')"
   ]
  },
  {
   "cell_type": "markdown",
   "metadata": {
    "id": "t2HDvhIu9hEr"
   },
   "source": [
    "# Specify each path"
   ]
  },
  {
   "cell_type": "code",
   "execution_count": 16,
   "metadata": {
    "id": "9NvZP2Zn9hEy"
   },
   "outputs": [
    {
     "ename": "SyntaxError",
     "evalue": "(unicode error) 'unicodeescape' codec can't decode bytes in position 2-3: truncated \\UXXXXXXXX escape (1793745132.py, line 1)",
     "output_type": "error",
     "traceback": [
      "\u001b[1;36m  Cell \u001b[1;32mIn[16], line 1\u001b[1;36m\u001b[0m\n\u001b[1;33m    dataset = 'C:\\Users\\srisa\\hand-gesture-recognition-mediapipe-main\\model\\keypoint_classifier/keypoint.csv'\u001b[0m\n\u001b[1;37m                                                                                                             ^\u001b[0m\n\u001b[1;31mSyntaxError\u001b[0m\u001b[1;31m:\u001b[0m (unicode error) 'unicodeescape' codec can't decode bytes in position 2-3: truncated \\UXXXXXXXX escape\n"
     ]
    }
   ],
   "source": [
    "dataset = 'C:\\Users\\srisa\\hand-gesture-recognition-mediapipe-main\\model\\keypoint_classifier/keypoint.csv'\n",
    "model_save_path = 'C:\\Users\\srisa\\hand-gesture-recognition-mediapipe-main\\model\\keypoint_classifier/keypoint_classifier.hdf5'\n",
    "tflite_save_path = 'C:\\Users\\srisa\\hand-gesture-recognition-mediapipe-main\\model\\keypoint_classifier/keypoint_classifier.tflite'"
   ]
  },
  {
   "cell_type": "markdown",
   "metadata": {
    "id": "s5oMH7x19hEz"
   },
   "source": [
    "# Set number of classes"
   ]
  },
  {
   "cell_type": "code",
   "execution_count": 14,
   "metadata": {
    "id": "du4kodXL9hEz"
   },
   "outputs": [],
   "source": [
    "NUM_CLASSES = 4"
   ]
  },
  {
   "cell_type": "markdown",
   "metadata": {
    "id": "XjnL0uso9hEz"
   },
   "source": [
    "# Dataset reading"
   ]
  },
  {
   "cell_type": "code",
   "execution_count": 15,
   "metadata": {
    "id": "QT5ZqtEz9hE0"
   },
   "outputs": [
    {
     "ename": "FileNotFoundError",
     "evalue": "hand-gesture-recognition-mediapipe-main\\model\\keypoint_classifier/keypoint.csv not found.",
     "output_type": "error",
     "traceback": [
      "\u001b[1;31m---------------------------------------------------------------------------\u001b[0m",
      "\u001b[1;31mFileNotFoundError\u001b[0m                         Traceback (most recent call last)",
      "Cell \u001b[1;32mIn[15], line 1\u001b[0m\n\u001b[1;32m----> 1\u001b[0m X_dataset \u001b[38;5;241m=\u001b[39m \u001b[43mnp\u001b[49m\u001b[38;5;241;43m.\u001b[39;49m\u001b[43mloadtxt\u001b[49m\u001b[43m(\u001b[49m\u001b[43mdataset\u001b[49m\u001b[43m,\u001b[49m\u001b[43m \u001b[49m\u001b[43mdelimiter\u001b[49m\u001b[38;5;241;43m=\u001b[39;49m\u001b[38;5;124;43m'\u001b[39;49m\u001b[38;5;124;43m,\u001b[39;49m\u001b[38;5;124;43m'\u001b[39;49m\u001b[43m,\u001b[49m\u001b[43m \u001b[49m\u001b[43mdtype\u001b[49m\u001b[38;5;241;43m=\u001b[39;49m\u001b[38;5;124;43m'\u001b[39;49m\u001b[38;5;124;43mfloat32\u001b[39;49m\u001b[38;5;124;43m'\u001b[39;49m\u001b[43m,\u001b[49m\u001b[43m \u001b[49m\u001b[43musecols\u001b[49m\u001b[38;5;241;43m=\u001b[39;49m\u001b[38;5;28;43mlist\u001b[39;49m\u001b[43m(\u001b[49m\u001b[38;5;28;43mrange\u001b[39;49m\u001b[43m(\u001b[49m\u001b[38;5;241;43m1\u001b[39;49m\u001b[43m,\u001b[49m\u001b[43m \u001b[49m\u001b[43m(\u001b[49m\u001b[38;5;241;43m21\u001b[39;49m\u001b[43m \u001b[49m\u001b[38;5;241;43m*\u001b[39;49m\u001b[43m \u001b[49m\u001b[38;5;241;43m2\u001b[39;49m\u001b[43m)\u001b[49m\u001b[43m \u001b[49m\u001b[38;5;241;43m+\u001b[39;49m\u001b[43m \u001b[49m\u001b[38;5;241;43m1\u001b[39;49m\u001b[43m)\u001b[49m\u001b[43m)\u001b[49m\u001b[43m)\u001b[49m\n",
      "File \u001b[1;32mD:\\anaconda\\envs\\tensorflow\\lib\\site-packages\\numpy\\lib\\npyio.py:1338\u001b[0m, in \u001b[0;36mloadtxt\u001b[1;34m(fname, dtype, comments, delimiter, converters, skiprows, usecols, unpack, ndmin, encoding, max_rows, quotechar, like)\u001b[0m\n\u001b[0;32m   1335\u001b[0m \u001b[38;5;28;01mif\u001b[39;00m \u001b[38;5;28misinstance\u001b[39m(delimiter, \u001b[38;5;28mbytes\u001b[39m):\n\u001b[0;32m   1336\u001b[0m     delimiter \u001b[38;5;241m=\u001b[39m delimiter\u001b[38;5;241m.\u001b[39mdecode(\u001b[38;5;124m'\u001b[39m\u001b[38;5;124mlatin1\u001b[39m\u001b[38;5;124m'\u001b[39m)\n\u001b[1;32m-> 1338\u001b[0m arr \u001b[38;5;241m=\u001b[39m \u001b[43m_read\u001b[49m\u001b[43m(\u001b[49m\u001b[43mfname\u001b[49m\u001b[43m,\u001b[49m\u001b[43m \u001b[49m\u001b[43mdtype\u001b[49m\u001b[38;5;241;43m=\u001b[39;49m\u001b[43mdtype\u001b[49m\u001b[43m,\u001b[49m\u001b[43m \u001b[49m\u001b[43mcomment\u001b[49m\u001b[38;5;241;43m=\u001b[39;49m\u001b[43mcomment\u001b[49m\u001b[43m,\u001b[49m\u001b[43m \u001b[49m\u001b[43mdelimiter\u001b[49m\u001b[38;5;241;43m=\u001b[39;49m\u001b[43mdelimiter\u001b[49m\u001b[43m,\u001b[49m\n\u001b[0;32m   1339\u001b[0m \u001b[43m            \u001b[49m\u001b[43mconverters\u001b[49m\u001b[38;5;241;43m=\u001b[39;49m\u001b[43mconverters\u001b[49m\u001b[43m,\u001b[49m\u001b[43m \u001b[49m\u001b[43mskiplines\u001b[49m\u001b[38;5;241;43m=\u001b[39;49m\u001b[43mskiprows\u001b[49m\u001b[43m,\u001b[49m\u001b[43m \u001b[49m\u001b[43musecols\u001b[49m\u001b[38;5;241;43m=\u001b[39;49m\u001b[43musecols\u001b[49m\u001b[43m,\u001b[49m\n\u001b[0;32m   1340\u001b[0m \u001b[43m            \u001b[49m\u001b[43munpack\u001b[49m\u001b[38;5;241;43m=\u001b[39;49m\u001b[43munpack\u001b[49m\u001b[43m,\u001b[49m\u001b[43m \u001b[49m\u001b[43mndmin\u001b[49m\u001b[38;5;241;43m=\u001b[39;49m\u001b[43mndmin\u001b[49m\u001b[43m,\u001b[49m\u001b[43m \u001b[49m\u001b[43mencoding\u001b[49m\u001b[38;5;241;43m=\u001b[39;49m\u001b[43mencoding\u001b[49m\u001b[43m,\u001b[49m\n\u001b[0;32m   1341\u001b[0m \u001b[43m            \u001b[49m\u001b[43mmax_rows\u001b[49m\u001b[38;5;241;43m=\u001b[39;49m\u001b[43mmax_rows\u001b[49m\u001b[43m,\u001b[49m\u001b[43m \u001b[49m\u001b[43mquote\u001b[49m\u001b[38;5;241;43m=\u001b[39;49m\u001b[43mquotechar\u001b[49m\u001b[43m)\u001b[49m\n\u001b[0;32m   1343\u001b[0m \u001b[38;5;28;01mreturn\u001b[39;00m arr\n",
      "File \u001b[1;32mD:\\anaconda\\envs\\tensorflow\\lib\\site-packages\\numpy\\lib\\npyio.py:975\u001b[0m, in \u001b[0;36m_read\u001b[1;34m(fname, delimiter, comment, quote, imaginary_unit, usecols, skiplines, max_rows, converters, ndmin, unpack, dtype, encoding)\u001b[0m\n\u001b[0;32m    973\u001b[0m     fname \u001b[38;5;241m=\u001b[39m os\u001b[38;5;241m.\u001b[39mfspath(fname)\n\u001b[0;32m    974\u001b[0m \u001b[38;5;28;01mif\u001b[39;00m \u001b[38;5;28misinstance\u001b[39m(fname, \u001b[38;5;28mstr\u001b[39m):\n\u001b[1;32m--> 975\u001b[0m     fh \u001b[38;5;241m=\u001b[39m \u001b[43mnp\u001b[49m\u001b[38;5;241;43m.\u001b[39;49m\u001b[43mlib\u001b[49m\u001b[38;5;241;43m.\u001b[39;49m\u001b[43m_datasource\u001b[49m\u001b[38;5;241;43m.\u001b[39;49m\u001b[43mopen\u001b[49m\u001b[43m(\u001b[49m\u001b[43mfname\u001b[49m\u001b[43m,\u001b[49m\u001b[43m \u001b[49m\u001b[38;5;124;43m'\u001b[39;49m\u001b[38;5;124;43mrt\u001b[39;49m\u001b[38;5;124;43m'\u001b[39;49m\u001b[43m,\u001b[49m\u001b[43m \u001b[49m\u001b[43mencoding\u001b[49m\u001b[38;5;241;43m=\u001b[39;49m\u001b[43mencoding\u001b[49m\u001b[43m)\u001b[49m\n\u001b[0;32m    976\u001b[0m     \u001b[38;5;28;01mif\u001b[39;00m encoding \u001b[38;5;129;01mis\u001b[39;00m \u001b[38;5;28;01mNone\u001b[39;00m:\n\u001b[0;32m    977\u001b[0m         encoding \u001b[38;5;241m=\u001b[39m \u001b[38;5;28mgetattr\u001b[39m(fh, \u001b[38;5;124m'\u001b[39m\u001b[38;5;124mencoding\u001b[39m\u001b[38;5;124m'\u001b[39m, \u001b[38;5;124m'\u001b[39m\u001b[38;5;124mlatin1\u001b[39m\u001b[38;5;124m'\u001b[39m)\n",
      "File \u001b[1;32mD:\\anaconda\\envs\\tensorflow\\lib\\site-packages\\numpy\\lib\\_datasource.py:193\u001b[0m, in \u001b[0;36mopen\u001b[1;34m(path, mode, destpath, encoding, newline)\u001b[0m\n\u001b[0;32m    156\u001b[0m \u001b[38;5;124;03m\"\"\"\u001b[39;00m\n\u001b[0;32m    157\u001b[0m \u001b[38;5;124;03mOpen `path` with `mode` and return the file object.\u001b[39;00m\n\u001b[0;32m    158\u001b[0m \n\u001b[1;32m   (...)\u001b[0m\n\u001b[0;32m    189\u001b[0m \n\u001b[0;32m    190\u001b[0m \u001b[38;5;124;03m\"\"\"\u001b[39;00m\n\u001b[0;32m    192\u001b[0m ds \u001b[38;5;241m=\u001b[39m DataSource(destpath)\n\u001b[1;32m--> 193\u001b[0m \u001b[38;5;28;01mreturn\u001b[39;00m \u001b[43mds\u001b[49m\u001b[38;5;241;43m.\u001b[39;49m\u001b[43mopen\u001b[49m\u001b[43m(\u001b[49m\u001b[43mpath\u001b[49m\u001b[43m,\u001b[49m\u001b[43m \u001b[49m\u001b[43mmode\u001b[49m\u001b[43m,\u001b[49m\u001b[43m \u001b[49m\u001b[43mencoding\u001b[49m\u001b[38;5;241;43m=\u001b[39;49m\u001b[43mencoding\u001b[49m\u001b[43m,\u001b[49m\u001b[43m \u001b[49m\u001b[43mnewline\u001b[49m\u001b[38;5;241;43m=\u001b[39;49m\u001b[43mnewline\u001b[49m\u001b[43m)\u001b[49m\n",
      "File \u001b[1;32mD:\\anaconda\\envs\\tensorflow\\lib\\site-packages\\numpy\\lib\\_datasource.py:533\u001b[0m, in \u001b[0;36mDataSource.open\u001b[1;34m(self, path, mode, encoding, newline)\u001b[0m\n\u001b[0;32m    530\u001b[0m     \u001b[38;5;28;01mreturn\u001b[39;00m _file_openers[ext](found, mode\u001b[38;5;241m=\u001b[39mmode,\n\u001b[0;32m    531\u001b[0m                               encoding\u001b[38;5;241m=\u001b[39mencoding, newline\u001b[38;5;241m=\u001b[39mnewline)\n\u001b[0;32m    532\u001b[0m \u001b[38;5;28;01melse\u001b[39;00m:\n\u001b[1;32m--> 533\u001b[0m     \u001b[38;5;28;01mraise\u001b[39;00m \u001b[38;5;167;01mFileNotFoundError\u001b[39;00m(\u001b[38;5;124mf\u001b[39m\u001b[38;5;124m\"\u001b[39m\u001b[38;5;132;01m{\u001b[39;00mpath\u001b[38;5;132;01m}\u001b[39;00m\u001b[38;5;124m not found.\u001b[39m\u001b[38;5;124m\"\u001b[39m)\n",
      "\u001b[1;31mFileNotFoundError\u001b[0m: hand-gesture-recognition-mediapipe-main\\model\\keypoint_classifier/keypoint.csv not found."
     ]
    }
   ],
   "source": [
    "X_dataset = np.loadtxt(dataset, delimiter=',', dtype='float32', usecols=list(range(1, (21 * 2) + 1)))"
   ]
  },
  {
   "cell_type": "code",
   "execution_count": 12,
   "metadata": {
    "id": "QmoKFsp49hE0"
   },
   "outputs": [],
   "source": [
    "y_dataset = np.loadtxt(dataset, delimiter=',', dtype='int32', usecols=(0))"
   ]
  },
  {
   "cell_type": "code",
   "execution_count": 13,
   "metadata": {
    "id": "xQU7JTZ_9hE0"
   },
   "outputs": [],
   "source": [
    "X_train, X_test, y_train, y_test = train_test_split(X_dataset, y_dataset, train_size=0.75, random_state=RANDOM_SEED)"
   ]
  },
  {
   "cell_type": "markdown",
   "metadata": {
    "id": "mxK_lETT9hE0"
   },
   "source": [
    "# Model building"
   ]
  },
  {
   "cell_type": "code",
   "execution_count": 14,
   "metadata": {
    "id": "vHBmUf1t9hE1"
   },
   "outputs": [],
   "source": [
    "model = tf.keras.models.Sequential([\n",
    "    tf.keras.layers.Input((21 * 2, )),\n",
    "    tf.keras.layers.Dropout(0.2),\n",
    "    tf.keras.layers.Dense(20, activation='relu'),\n",
    "    tf.keras.layers.Dropout(0.4),\n",
    "    tf.keras.layers.Dense(10, activation='relu'),\n",
    "    tf.keras.layers.Dense(NUM_CLASSES, activation='softmax')\n",
    "])"
   ]
  },
  {
   "cell_type": "code",
   "execution_count": 15,
   "metadata": {
    "colab": {
     "base_uri": "https://localhost:8080/"
    },
    "id": "ypqky9tc9hE1",
    "outputId": "62df0473-cf63-46e8-b7cd-cb5143e0e571"
   },
   "outputs": [
    {
     "name": "stdout",
     "output_type": "stream",
     "text": [
      "Model: \"sequential\"\n",
      "_________________________________________________________________\n",
      " Layer (type)                Output Shape              Param #   \n",
      "=================================================================\n",
      " dropout (Dropout)           (None, 42)                0         \n",
      "                                                                 \n",
      " dense (Dense)               (None, 20)                860       \n",
      "                                                                 \n",
      " dropout_1 (Dropout)         (None, 20)                0         \n",
      "                                                                 \n",
      " dense_1 (Dense)             (None, 10)                210       \n",
      "                                                                 \n",
      " dense_2 (Dense)             (None, 4)                 44        \n",
      "                                                                 \n",
      "=================================================================\n",
      "Total params: 1,114\n",
      "Trainable params: 1,114\n",
      "Non-trainable params: 0\n",
      "_________________________________________________________________\n"
     ]
    }
   ],
   "source": [
    "model.summary()  # tf.keras.utils.plot_model(model, show_shapes=True)"
   ]
  },
  {
   "cell_type": "code",
   "execution_count": 16,
   "metadata": {
    "id": "MbMjOflQ9hE1"
   },
   "outputs": [],
   "source": [
    "# Model checkpoint callback\n",
    "cp_callback = tf.keras.callbacks.ModelCheckpoint(\n",
    "    model_save_path, verbose=1, save_weights_only=False)\n",
    "# Callback for early stopping\n",
    "es_callback = tf.keras.callbacks.EarlyStopping(patience=20, verbose=1)"
   ]
  },
  {
   "cell_type": "code",
   "execution_count": 17,
   "metadata": {
    "id": "c3Dac0M_9hE2"
   },
   "outputs": [],
   "source": [
    "# Model compilation\n",
    "model.compile(\n",
    "    optimizer='adam',\n",
    "    loss='sparse_categorical_crossentropy',\n",
    "    metrics=['accuracy']\n",
    ")"
   ]
  },
  {
   "cell_type": "markdown",
   "metadata": {
    "id": "7XI0j1Iu9hE2"
   },
   "source": [
    "# Model training"
   ]
  },
  {
   "cell_type": "code",
   "execution_count": 18,
   "metadata": {
    "colab": {
     "base_uri": "https://localhost:8080/"
    },
    "id": "WirBl-JE9hE3",
    "outputId": "cb4253de-7c6c-4dff-bf16-3d2e96a1c9e1",
    "scrolled": true
   },
   "outputs": [
    {
     "name": "stdout",
     "output_type": "stream",
     "text": [
      "Epoch 1/1000\n",
      "18/29 [=================>............] - ETA: 0s - loss: 1.3796 - accuracy: 0.3129  \n",
      "Epoch 1: saving model to /keypoint_classifier.hdf5\n",
      "29/29 [==============================] - 6s 11ms/step - loss: 1.3629 - accuracy: 0.3267 - val_loss: 1.3044 - val_accuracy: 0.4302\n",
      "Epoch 2/1000\n",
      "19/29 [==================>...........] - ETA: 0s - loss: 1.3068 - accuracy: 0.3438\n",
      "Epoch 2: saving model to /keypoint_classifier.hdf5\n",
      "29/29 [==============================] - 0s 6ms/step - loss: 1.3017 - accuracy: 0.3437 - val_loss: 1.2499 - val_accuracy: 0.4528\n",
      "Epoch 3/1000\n",
      "19/29 [==================>...........] - ETA: 0s - loss: 1.2562 - accuracy: 0.3956\n",
      "Epoch 3: saving model to /keypoint_classifier.hdf5\n",
      "29/29 [==============================] - 0s 5ms/step - loss: 1.2495 - accuracy: 0.3933 - val_loss: 1.1915 - val_accuracy: 0.5096\n",
      "Epoch 4/1000\n",
      "18/29 [=================>............] - ETA: 0s - loss: 1.2210 - accuracy: 0.4167\n",
      "Epoch 4: saving model to /keypoint_classifier.hdf5\n",
      "29/29 [==============================] - 0s 5ms/step - loss: 1.2130 - accuracy: 0.4279 - val_loss: 1.1386 - val_accuracy: 0.5698\n",
      "Epoch 5/1000\n",
      "19/29 [==================>...........] - ETA: 0s - loss: 1.1659 - accuracy: 0.4790\n",
      "Epoch 5: saving model to /keypoint_classifier.hdf5\n",
      "29/29 [==============================] - 0s 5ms/step - loss: 1.1649 - accuracy: 0.4799 - val_loss: 1.0721 - val_accuracy: 0.6115\n",
      "Epoch 6/1000\n",
      "19/29 [==================>...........] - ETA: 0s - loss: 1.1334 - accuracy: 0.4922\n",
      "Epoch 6: saving model to /keypoint_classifier.hdf5\n",
      "29/29 [==============================] - 0s 5ms/step - loss: 1.1242 - accuracy: 0.5003 - val_loss: 1.0150 - val_accuracy: 0.6174\n",
      "Epoch 7/1000\n",
      "19/29 [==================>...........] - ETA: 0s - loss: 1.0953 - accuracy: 0.4984\n",
      "Epoch 7: saving model to /keypoint_classifier.hdf5\n",
      "29/29 [==============================] - 0s 5ms/step - loss: 1.0838 - accuracy: 0.5148 - val_loss: 0.9502 - val_accuracy: 0.6951\n",
      "Epoch 8/1000\n",
      "19/29 [==================>...........] - ETA: 0s - loss: 1.0590 - accuracy: 0.5255\n",
      "Epoch 8: saving model to /keypoint_classifier.hdf5\n",
      "29/29 [==============================] - 0s 5ms/step - loss: 1.0559 - accuracy: 0.5298 - val_loss: 0.8952 - val_accuracy: 0.7260\n",
      "Epoch 9/1000\n",
      "20/29 [===================>..........] - ETA: 0s - loss: 1.0151 - accuracy: 0.5508\n",
      "Epoch 9: saving model to /keypoint_classifier.hdf5\n",
      "29/29 [==============================] - 0s 5ms/step - loss: 1.0116 - accuracy: 0.5521 - val_loss: 0.8479 - val_accuracy: 0.7594\n",
      "Epoch 10/1000\n",
      "19/29 [==================>...........] - ETA: 0s - loss: 0.9684 - accuracy: 0.5798\n",
      "Epoch 10: saving model to /keypoint_classifier.hdf5\n",
      "29/29 [==============================] - 0s 7ms/step - loss: 0.9712 - accuracy: 0.5760 - val_loss: 0.7993 - val_accuracy: 0.7719\n",
      "Epoch 11/1000\n",
      "19/29 [==================>...........] - ETA: 0s - loss: 0.9557 - accuracy: 0.5781\n",
      "Epoch 11: saving model to /keypoint_classifier.hdf5\n",
      "29/29 [==============================] - 0s 5ms/step - loss: 0.9461 - accuracy: 0.5861 - val_loss: 0.7581 - val_accuracy: 0.7761\n",
      "Epoch 12/1000\n",
      "16/29 [===============>..............] - ETA: 0s - loss: 0.9003 - accuracy: 0.6162\n",
      "Epoch 12: saving model to /keypoint_classifier.hdf5\n",
      "29/29 [==============================] - 0s 5ms/step - loss: 0.9119 - accuracy: 0.6025 - val_loss: 0.7163 - val_accuracy: 0.7794\n",
      "Epoch 13/1000\n",
      "20/29 [===================>..........] - ETA: 0s - loss: 0.8716 - accuracy: 0.6293\n",
      "Epoch 13: saving model to /keypoint_classifier.hdf5\n",
      "29/29 [==============================] - 0s 5ms/step - loss: 0.8693 - accuracy: 0.6345 - val_loss: 0.6781 - val_accuracy: 0.8003\n",
      "Epoch 14/1000\n",
      "20/29 [===================>..........] - ETA: 0s - loss: 0.8608 - accuracy: 0.6285\n",
      "Epoch 14: saving model to /keypoint_classifier.hdf5\n",
      "29/29 [==============================] - 0s 5ms/step - loss: 0.8661 - accuracy: 0.6234 - val_loss: 0.6446 - val_accuracy: 0.7911\n",
      "Epoch 15/1000\n",
      "18/29 [=================>............] - ETA: 0s - loss: 0.8360 - accuracy: 0.6350\n",
      "Epoch 15: saving model to /keypoint_classifier.hdf5\n",
      "29/29 [==============================] - 0s 5ms/step - loss: 0.8375 - accuracy: 0.6295 - val_loss: 0.6232 - val_accuracy: 0.8187\n",
      "Epoch 16/1000\n",
      "19/29 [==================>...........] - ETA: 0s - loss: 0.8224 - accuracy: 0.6423\n",
      "Epoch 16: saving model to /keypoint_classifier.hdf5\n",
      "29/29 [==============================] - 0s 5ms/step - loss: 0.8253 - accuracy: 0.6312 - val_loss: 0.5927 - val_accuracy: 0.8162\n",
      "Epoch 17/1000\n",
      "19/29 [==================>...........] - ETA: 0s - loss: 0.8314 - accuracy: 0.6353\n",
      "Epoch 17: saving model to /keypoint_classifier.hdf5\n",
      "29/29 [==============================] - 0s 5ms/step - loss: 0.8298 - accuracy: 0.6365 - val_loss: 0.5713 - val_accuracy: 0.8329\n",
      "Epoch 18/1000\n",
      "19/29 [==================>...........] - ETA: 0s - loss: 0.7991 - accuracy: 0.6505\n",
      "Epoch 18: saving model to /keypoint_classifier.hdf5\n",
      "29/29 [==============================] - 0s 5ms/step - loss: 0.7956 - accuracy: 0.6563 - val_loss: 0.5449 - val_accuracy: 0.8613\n",
      "Epoch 19/1000\n",
      "19/29 [==================>...........] - ETA: 0s - loss: 0.7606 - accuracy: 0.6628\n",
      "Epoch 19: saving model to /keypoint_classifier.hdf5\n",
      "29/29 [==============================] - 0s 5ms/step - loss: 0.7587 - accuracy: 0.6630 - val_loss: 0.5218 - val_accuracy: 0.8797\n",
      "Epoch 20/1000\n",
      "20/29 [===================>..........] - ETA: 0s - loss: 0.7625 - accuracy: 0.6723\n",
      "Epoch 20: saving model to /keypoint_classifier.hdf5\n",
      "29/29 [==============================] - 0s 5ms/step - loss: 0.7640 - accuracy: 0.6727 - val_loss: 0.5032 - val_accuracy: 0.8956\n",
      "Epoch 21/1000\n",
      "19/29 [==================>...........] - ETA: 0s - loss: 0.7469 - accuracy: 0.6760\n",
      "Epoch 21: saving model to /keypoint_classifier.hdf5\n",
      "29/29 [==============================] - 0s 5ms/step - loss: 0.7432 - accuracy: 0.6786 - val_loss: 0.4827 - val_accuracy: 0.8981\n",
      "Epoch 22/1000\n",
      "15/29 [==============>...............] - ETA: 0s - loss: 0.7275 - accuracy: 0.6870\n",
      "Epoch 22: saving model to /keypoint_classifier.hdf5\n",
      "29/29 [==============================] - 0s 6ms/step - loss: 0.7357 - accuracy: 0.6847 - val_loss: 0.4634 - val_accuracy: 0.9031\n",
      "Epoch 23/1000\n",
      "19/29 [==================>...........] - ETA: 0s - loss: 0.7150 - accuracy: 0.6965\n",
      "Epoch 23: saving model to /keypoint_classifier.hdf5\n",
      "29/29 [==============================] - 0s 7ms/step - loss: 0.7192 - accuracy: 0.6953 - val_loss: 0.4483 - val_accuracy: 0.9098\n",
      "Epoch 24/1000\n",
      "18/29 [=================>............] - ETA: 0s - loss: 0.7270 - accuracy: 0.6871\n",
      "Epoch 24: saving model to /keypoint_classifier.hdf5\n",
      "29/29 [==============================] - 0s 7ms/step - loss: 0.7167 - accuracy: 0.6955 - val_loss: 0.4396 - val_accuracy: 0.9156\n",
      "Epoch 25/1000\n",
      "19/29 [==================>...........] - ETA: 0s - loss: 0.6902 - accuracy: 0.7105\n",
      "Epoch 25: saving model to /keypoint_classifier.hdf5\n",
      "29/29 [==============================] - 0s 5ms/step - loss: 0.6878 - accuracy: 0.7139 - val_loss: 0.4276 - val_accuracy: 0.9156\n",
      "Epoch 26/1000\n",
      "19/29 [==================>...........] - ETA: 0s - loss: 0.6699 - accuracy: 0.7270\n",
      "Epoch 26: saving model to /keypoint_classifier.hdf5\n",
      "29/29 [==============================] - 0s 5ms/step - loss: 0.6688 - accuracy: 0.7253 - val_loss: 0.4109 - val_accuracy: 0.9123\n",
      "Epoch 27/1000\n",
      "19/29 [==================>...........] - ETA: 0s - loss: 0.7032 - accuracy: 0.7002\n",
      "Epoch 27: saving model to /keypoint_classifier.hdf5\n",
      "29/29 [==============================] - 0s 5ms/step - loss: 0.6991 - accuracy: 0.7011 - val_loss: 0.4075 - val_accuracy: 0.9148\n",
      "Epoch 28/1000\n",
      "15/29 [==============>...............] - ETA: 0s - loss: 0.6815 - accuracy: 0.7161\n",
      "Epoch 28: saving model to /keypoint_classifier.hdf5\n",
      "29/29 [==============================] - 0s 5ms/step - loss: 0.6802 - accuracy: 0.7139 - val_loss: 0.3917 - val_accuracy: 0.9248\n",
      "Epoch 29/1000\n",
      "20/29 [===================>..........] - ETA: 0s - loss: 0.6720 - accuracy: 0.7184\n",
      "Epoch 29: saving model to /keypoint_classifier.hdf5\n",
      "29/29 [==============================] - 0s 5ms/step - loss: 0.6695 - accuracy: 0.7228 - val_loss: 0.3851 - val_accuracy: 0.9215\n",
      "Epoch 30/1000\n",
      "19/29 [==================>...........] - ETA: 0s - loss: 0.6705 - accuracy: 0.7290\n",
      "Epoch 30: saving model to /keypoint_classifier.hdf5\n",
      "29/29 [==============================] - 0s 5ms/step - loss: 0.6641 - accuracy: 0.7298 - val_loss: 0.3737 - val_accuracy: 0.9223\n",
      "Epoch 31/1000\n",
      "18/29 [=================>............] - ETA: 0s - loss: 0.6680 - accuracy: 0.7231\n",
      "Epoch 31: saving model to /keypoint_classifier.hdf5\n",
      "29/29 [==============================] - 0s 5ms/step - loss: 0.6659 - accuracy: 0.7251 - val_loss: 0.3625 - val_accuracy: 0.9290\n",
      "Epoch 32/1000\n",
      "19/29 [==================>...........] - ETA: 0s - loss: 0.6637 - accuracy: 0.7447\n",
      "Epoch 32: saving model to /keypoint_classifier.hdf5\n",
      "29/29 [==============================] - 0s 5ms/step - loss: 0.6682 - accuracy: 0.7415 - val_loss: 0.3714 - val_accuracy: 0.9140\n",
      "Epoch 33/1000\n",
      "18/29 [=================>............] - ETA: 0s - loss: 0.6478 - accuracy: 0.7478\n",
      "Epoch 33: saving model to /keypoint_classifier.hdf5\n",
      "29/29 [==============================] - 0s 5ms/step - loss: 0.6509 - accuracy: 0.7396 - val_loss: 0.3576 - val_accuracy: 0.9240\n",
      "Epoch 34/1000\n",
      "29/29 [==============================] - ETA: 0s - loss: 0.6441 - accuracy: 0.7370\n",
      "Epoch 34: saving model to /keypoint_classifier.hdf5\n",
      "29/29 [==============================] - 0s 6ms/step - loss: 0.6441 - accuracy: 0.7370 - val_loss: 0.3483 - val_accuracy: 0.9265\n",
      "Epoch 35/1000\n",
      "18/29 [=================>............] - ETA: 0s - loss: 0.6314 - accuracy: 0.7465\n",
      "Epoch 35: saving model to /keypoint_classifier.hdf5\n",
      "29/29 [==============================] - 0s 5ms/step - loss: 0.6359 - accuracy: 0.7451 - val_loss: 0.3368 - val_accuracy: 0.9265\n",
      "Epoch 36/1000\n",
      "19/29 [==================>...........] - ETA: 0s - loss: 0.6347 - accuracy: 0.7504\n",
      "Epoch 36: saving model to /keypoint_classifier.hdf5\n",
      "29/29 [==============================] - 0s 5ms/step - loss: 0.6378 - accuracy: 0.7490 - val_loss: 0.3336 - val_accuracy: 0.9265\n",
      "Epoch 37/1000\n",
      "19/29 [==================>...........] - ETA: 0s - loss: 0.6232 - accuracy: 0.7467\n",
      "Epoch 37: saving model to /keypoint_classifier.hdf5\n",
      "29/29 [==============================] - 0s 5ms/step - loss: 0.6147 - accuracy: 0.7510 - val_loss: 0.3251 - val_accuracy: 0.9290\n",
      "Epoch 38/1000\n",
      "16/29 [===============>..............] - ETA: 0s - loss: 0.6394 - accuracy: 0.7378\n",
      "Epoch 38: saving model to /keypoint_classifier.hdf5\n",
      "29/29 [==============================] - 0s 5ms/step - loss: 0.6276 - accuracy: 0.7448 - val_loss: 0.3220 - val_accuracy: 0.9265\n",
      "Epoch 39/1000\n",
      "18/29 [=================>............] - ETA: 0s - loss: 0.6377 - accuracy: 0.7378\n",
      "Epoch 39: saving model to /keypoint_classifier.hdf5\n",
      "29/29 [==============================] - 0s 5ms/step - loss: 0.6224 - accuracy: 0.7443 - val_loss: 0.3188 - val_accuracy: 0.9323\n",
      "Epoch 40/1000\n",
      "18/29 [=================>............] - ETA: 0s - loss: 0.6157 - accuracy: 0.7561\n",
      "Epoch 40: saving model to /keypoint_classifier.hdf5\n",
      "29/29 [==============================] - 0s 6ms/step - loss: 0.6127 - accuracy: 0.7577 - val_loss: 0.3232 - val_accuracy: 0.9231\n",
      "Epoch 41/1000\n",
      "16/29 [===============>..............] - ETA: 0s - loss: 0.6047 - accuracy: 0.7583\n",
      "Epoch 41: saving model to /keypoint_classifier.hdf5\n",
      "29/29 [==============================] - 0s 7ms/step - loss: 0.5999 - accuracy: 0.7588 - val_loss: 0.3134 - val_accuracy: 0.9248\n",
      "Epoch 42/1000\n",
      "17/29 [================>.............] - ETA: 0s - loss: 0.6184 - accuracy: 0.7555\n",
      "Epoch 42: saving model to /keypoint_classifier.hdf5\n",
      "29/29 [==============================] - 0s 5ms/step - loss: 0.6193 - accuracy: 0.7518 - val_loss: 0.3061 - val_accuracy: 0.9290\n",
      "Epoch 43/1000\n",
      "18/29 [=================>............] - ETA: 0s - loss: 0.6261 - accuracy: 0.7478\n",
      "Epoch 43: saving model to /keypoint_classifier.hdf5\n",
      "29/29 [==============================] - 0s 5ms/step - loss: 0.6233 - accuracy: 0.7493 - val_loss: 0.3058 - val_accuracy: 0.9282\n",
      "Epoch 44/1000\n",
      "17/29 [================>.............] - ETA: 0s - loss: 0.6128 - accuracy: 0.7523\n",
      "Epoch 44: saving model to /keypoint_classifier.hdf5\n",
      "29/29 [==============================] - 0s 5ms/step - loss: 0.6127 - accuracy: 0.7526 - val_loss: 0.3036 - val_accuracy: 0.9282\n",
      "Epoch 45/1000\n",
      "19/29 [==================>...........] - ETA: 0s - loss: 0.6392 - accuracy: 0.7405\n",
      "Epoch 45: saving model to /keypoint_classifier.hdf5\n",
      "29/29 [==============================] - 0s 7ms/step - loss: 0.6231 - accuracy: 0.7451 - val_loss: 0.3033 - val_accuracy: 0.9231\n",
      "Epoch 46/1000\n",
      "18/29 [=================>............] - ETA: 0s - loss: 0.5949 - accuracy: 0.7643\n",
      "Epoch 46: saving model to /keypoint_classifier.hdf5\n",
      "29/29 [==============================] - 0s 6ms/step - loss: 0.6015 - accuracy: 0.7630 - val_loss: 0.2992 - val_accuracy: 0.9282\n",
      "Epoch 47/1000\n",
      "19/29 [==================>...........] - ETA: 0s - loss: 0.5993 - accuracy: 0.7590\n",
      "Epoch 47: saving model to /keypoint_classifier.hdf5\n",
      "29/29 [==============================] - 0s 5ms/step - loss: 0.5996 - accuracy: 0.7571 - val_loss: 0.2933 - val_accuracy: 0.9282\n",
      "Epoch 48/1000\n",
      "14/29 [=============>................] - ETA: 0s - loss: 0.5776 - accuracy: 0.7790\n",
      "Epoch 48: saving model to /keypoint_classifier.hdf5\n",
      "29/29 [==============================] - 0s 6ms/step - loss: 0.5837 - accuracy: 0.7797 - val_loss: 0.2914 - val_accuracy: 0.9231\n",
      "Epoch 49/1000\n",
      "19/29 [==================>...........] - ETA: 0s - loss: 0.5943 - accuracy: 0.7710\n",
      "Epoch 49: saving model to /keypoint_classifier.hdf5\n",
      "29/29 [==============================] - 0s 5ms/step - loss: 0.5929 - accuracy: 0.7630 - val_loss: 0.2815 - val_accuracy: 0.9332\n",
      "Epoch 50/1000\n",
      "29/29 [==============================] - ETA: 0s - loss: 0.5630 - accuracy: 0.7855\n",
      "Epoch 50: saving model to /keypoint_classifier.hdf5\n",
      "29/29 [==============================] - 0s 6ms/step - loss: 0.5630 - accuracy: 0.7855 - val_loss: 0.2848 - val_accuracy: 0.9298\n",
      "Epoch 51/1000\n",
      "17/29 [================>.............] - ETA: 0s - loss: 0.6028 - accuracy: 0.7661\n",
      "Epoch 51: saving model to /keypoint_classifier.hdf5\n",
      "29/29 [==============================] - 0s 5ms/step - loss: 0.6021 - accuracy: 0.7652 - val_loss: 0.2804 - val_accuracy: 0.9290\n",
      "Epoch 52/1000\n",
      "19/29 [==================>...........] - ETA: 0s - loss: 0.5682 - accuracy: 0.7771\n",
      "Epoch 52: saving model to /keypoint_classifier.hdf5\n",
      "29/29 [==============================] - 0s 5ms/step - loss: 0.5670 - accuracy: 0.7786 - val_loss: 0.2804 - val_accuracy: 0.9298\n",
      "Epoch 53/1000\n",
      "18/29 [=================>............] - ETA: 0s - loss: 0.5785 - accuracy: 0.7786\n",
      "Epoch 53: saving model to /keypoint_classifier.hdf5\n",
      "29/29 [==============================] - 0s 5ms/step - loss: 0.5786 - accuracy: 0.7741 - val_loss: 0.2785 - val_accuracy: 0.9323\n",
      "Epoch 54/1000\n",
      "19/29 [==================>...........] - ETA: 0s - loss: 0.6040 - accuracy: 0.7669\n",
      "Epoch 54: saving model to /keypoint_classifier.hdf5\n",
      "29/29 [==============================] - 0s 5ms/step - loss: 0.5988 - accuracy: 0.7677 - val_loss: 0.2756 - val_accuracy: 0.9332\n",
      "Epoch 55/1000\n",
      "19/29 [==================>...........] - ETA: 0s - loss: 0.5567 - accuracy: 0.7866\n",
      "Epoch 55: saving model to /keypoint_classifier.hdf5\n",
      "29/29 [==============================] - 0s 5ms/step - loss: 0.5517 - accuracy: 0.7891 - val_loss: 0.2724 - val_accuracy: 0.9357\n",
      "Epoch 56/1000\n",
      "19/29 [==================>...........] - ETA: 0s - loss: 0.5886 - accuracy: 0.7841\n",
      "Epoch 56: saving model to /keypoint_classifier.hdf5\n",
      "29/29 [==============================] - 0s 5ms/step - loss: 0.5679 - accuracy: 0.7916 - val_loss: 0.2713 - val_accuracy: 0.9340\n",
      "Epoch 57/1000\n",
      "18/29 [=================>............] - ETA: 0s - loss: 0.5418 - accuracy: 0.7921\n",
      "Epoch 57: saving model to /keypoint_classifier.hdf5\n",
      "29/29 [==============================] - 0s 5ms/step - loss: 0.5645 - accuracy: 0.7788 - val_loss: 0.2595 - val_accuracy: 0.9398\n",
      "Epoch 58/1000\n",
      "18/29 [=================>............] - ETA: 0s - loss: 0.5612 - accuracy: 0.7812\n",
      "Epoch 58: saving model to /keypoint_classifier.hdf5\n",
      "29/29 [==============================] - 0s 7ms/step - loss: 0.5545 - accuracy: 0.7794 - val_loss: 0.2623 - val_accuracy: 0.9398\n",
      "Epoch 59/1000\n",
      "18/29 [=================>............] - ETA: 0s - loss: 0.5417 - accuracy: 0.7899\n",
      "Epoch 59: saving model to /keypoint_classifier.hdf5\n",
      "29/29 [==============================] - 0s 6ms/step - loss: 0.5565 - accuracy: 0.7852 - val_loss: 0.2618 - val_accuracy: 0.9365\n",
      "Epoch 60/1000\n",
      "18/29 [=================>............] - ETA: 0s - loss: 0.5356 - accuracy: 0.7895\n",
      "Epoch 60: saving model to /keypoint_classifier.hdf5\n",
      "29/29 [==============================] - 0s 7ms/step - loss: 0.5502 - accuracy: 0.7869 - val_loss: 0.2550 - val_accuracy: 0.9424\n",
      "Epoch 61/1000\n",
      "27/29 [==========================>...] - ETA: 0s - loss: 0.5481 - accuracy: 0.7891\n",
      "Epoch 61: saving model to /keypoint_classifier.hdf5\n",
      "29/29 [==============================] - 0s 9ms/step - loss: 0.5498 - accuracy: 0.7886 - val_loss: 0.2531 - val_accuracy: 0.9398\n",
      "Epoch 62/1000\n",
      "27/29 [==========================>...] - ETA: 0s - loss: 0.5535 - accuracy: 0.7810\n",
      "Epoch 62: saving model to /keypoint_classifier.hdf5\n",
      "29/29 [==============================] - 0s 8ms/step - loss: 0.5525 - accuracy: 0.7825 - val_loss: 0.2558 - val_accuracy: 0.9415\n",
      "Epoch 63/1000\n",
      "26/29 [=========================>....] - ETA: 0s - loss: 0.5482 - accuracy: 0.7888\n",
      "Epoch 63: saving model to /keypoint_classifier.hdf5\n",
      "29/29 [==============================] - 0s 8ms/step - loss: 0.5465 - accuracy: 0.7886 - val_loss: 0.2522 - val_accuracy: 0.9373\n",
      "Epoch 64/1000\n",
      "27/29 [==========================>...] - ETA: 0s - loss: 0.5636 - accuracy: 0.7850\n",
      "Epoch 64: saving model to /keypoint_classifier.hdf5\n",
      "29/29 [==============================] - 0s 8ms/step - loss: 0.5635 - accuracy: 0.7855 - val_loss: 0.2470 - val_accuracy: 0.9407\n",
      "Epoch 65/1000\n",
      "27/29 [==========================>...] - ETA: 0s - loss: 0.5429 - accuracy: 0.7977\n",
      "Epoch 65: saving model to /keypoint_classifier.hdf5\n",
      "29/29 [==============================] - 0s 8ms/step - loss: 0.5422 - accuracy: 0.7986 - val_loss: 0.2488 - val_accuracy: 0.9440\n",
      "Epoch 66/1000\n",
      "26/29 [=========================>....] - ETA: 0s - loss: 0.5445 - accuracy: 0.7861\n",
      "Epoch 66: saving model to /keypoint_classifier.hdf5\n",
      "29/29 [==============================] - 0s 9ms/step - loss: 0.5471 - accuracy: 0.7847 - val_loss: 0.2428 - val_accuracy: 0.9482\n",
      "Epoch 67/1000\n",
      "26/29 [=========================>....] - ETA: 0s - loss: 0.5396 - accuracy: 0.7984\n",
      "Epoch 67: saving model to /keypoint_classifier.hdf5\n",
      "29/29 [==============================] - 0s 9ms/step - loss: 0.5364 - accuracy: 0.7986 - val_loss: 0.2432 - val_accuracy: 0.9407\n",
      "Epoch 68/1000\n",
      "27/29 [==========================>...] - ETA: 0s - loss: 0.5452 - accuracy: 0.7865\n",
      "Epoch 68: saving model to /keypoint_classifier.hdf5\n",
      "29/29 [==============================] - 0s 8ms/step - loss: 0.5471 - accuracy: 0.7844 - val_loss: 0.2476 - val_accuracy: 0.9424\n",
      "Epoch 69/1000\n",
      "24/29 [=======================>......] - ETA: 0s - loss: 0.5678 - accuracy: 0.7874\n",
      "Epoch 69: saving model to /keypoint_classifier.hdf5\n",
      "29/29 [==============================] - 0s 8ms/step - loss: 0.5489 - accuracy: 0.7944 - val_loss: 0.2486 - val_accuracy: 0.9457\n",
      "Epoch 70/1000\n",
      "24/29 [=======================>......] - ETA: 0s - loss: 0.5447 - accuracy: 0.7858\n",
      "Epoch 70: saving model to /keypoint_classifier.hdf5\n",
      "29/29 [==============================] - 0s 9ms/step - loss: 0.5413 - accuracy: 0.7872 - val_loss: 0.2411 - val_accuracy: 0.9465\n",
      "Epoch 71/1000\n",
      "27/29 [==========================>...] - ETA: 0s - loss: 0.5320 - accuracy: 0.7986\n",
      "Epoch 71: saving model to /keypoint_classifier.hdf5\n",
      "29/29 [==============================] - 0s 6ms/step - loss: 0.5312 - accuracy: 0.7978 - val_loss: 0.2405 - val_accuracy: 0.9424\n",
      "Epoch 72/1000\n",
      "17/29 [================>.............] - ETA: 0s - loss: 0.5338 - accuracy: 0.7886\n",
      "Epoch 72: saving model to /keypoint_classifier.hdf5\n",
      "29/29 [==============================] - 0s 5ms/step - loss: 0.5385 - accuracy: 0.7886 - val_loss: 0.2480 - val_accuracy: 0.9365\n",
      "Epoch 73/1000\n",
      "18/29 [=================>............] - ETA: 0s - loss: 0.5495 - accuracy: 0.7878\n",
      "Epoch 73: saving model to /keypoint_classifier.hdf5\n",
      "29/29 [==============================] - 0s 5ms/step - loss: 0.5455 - accuracy: 0.7961 - val_loss: 0.2413 - val_accuracy: 0.9440\n",
      "Epoch 74/1000\n",
      "18/29 [=================>............] - ETA: 0s - loss: 0.5263 - accuracy: 0.8060\n",
      "Epoch 74: saving model to /keypoint_classifier.hdf5\n",
      "29/29 [==============================] - 0s 5ms/step - loss: 0.5289 - accuracy: 0.8008 - val_loss: 0.2323 - val_accuracy: 0.9457\n",
      "Epoch 75/1000\n",
      "19/29 [==================>...........] - ETA: 0s - loss: 0.5467 - accuracy: 0.7952\n",
      "Epoch 75: saving model to /keypoint_classifier.hdf5\n",
      "29/29 [==============================] - 0s 5ms/step - loss: 0.5388 - accuracy: 0.7992 - val_loss: 0.2307 - val_accuracy: 0.9457\n",
      "Epoch 76/1000\n",
      "19/29 [==================>...........] - ETA: 0s - loss: 0.5366 - accuracy: 0.7903\n",
      "Epoch 76: saving model to /keypoint_classifier.hdf5\n",
      "29/29 [==============================] - 0s 5ms/step - loss: 0.5377 - accuracy: 0.7889 - val_loss: 0.2348 - val_accuracy: 0.9449\n",
      "Epoch 77/1000\n",
      "18/29 [=================>............] - ETA: 0s - loss: 0.5421 - accuracy: 0.7804\n",
      "Epoch 77: saving model to /keypoint_classifier.hdf5\n",
      "29/29 [==============================] - 0s 5ms/step - loss: 0.5241 - accuracy: 0.7953 - val_loss: 0.2366 - val_accuracy: 0.9474\n",
      "Epoch 78/1000\n",
      "14/29 [=============>................] - ETA: 0s - loss: 0.5086 - accuracy: 0.8175\n",
      "Epoch 78: saving model to /keypoint_classifier.hdf5\n",
      "29/29 [==============================] - 0s 6ms/step - loss: 0.5264 - accuracy: 0.8036 - val_loss: 0.2329 - val_accuracy: 0.9457\n",
      "Epoch 79/1000\n",
      "18/29 [=================>............] - ETA: 0s - loss: 0.5236 - accuracy: 0.7951\n",
      "Epoch 79: saving model to /keypoint_classifier.hdf5\n",
      "29/29 [==============================] - 0s 5ms/step - loss: 0.5193 - accuracy: 0.7978 - val_loss: 0.2232 - val_accuracy: 0.9482\n",
      "Epoch 80/1000\n",
      "18/29 [=================>............] - ETA: 0s - loss: 0.5298 - accuracy: 0.7982\n",
      "Epoch 80: saving model to /keypoint_classifier.hdf5\n",
      "29/29 [==============================] - 0s 5ms/step - loss: 0.5360 - accuracy: 0.7986 - val_loss: 0.2234 - val_accuracy: 0.9482\n",
      "Epoch 81/1000\n",
      "19/29 [==================>...........] - ETA: 0s - loss: 0.5042 - accuracy: 0.8047\n",
      "Epoch 81: saving model to /keypoint_classifier.hdf5\n",
      "29/29 [==============================] - 0s 6ms/step - loss: 0.5127 - accuracy: 0.8022 - val_loss: 0.2285 - val_accuracy: 0.9432\n",
      "Epoch 82/1000\n",
      "18/29 [=================>............] - ETA: 0s - loss: 0.5289 - accuracy: 0.7904\n",
      "Epoch 82: saving model to /keypoint_classifier.hdf5\n",
      "29/29 [==============================] - 0s 7ms/step - loss: 0.5221 - accuracy: 0.7994 - val_loss: 0.2271 - val_accuracy: 0.9490\n",
      "Epoch 83/1000\n",
      "18/29 [=================>............] - ETA: 0s - loss: 0.5261 - accuracy: 0.8012\n",
      "Epoch 83: saving model to /keypoint_classifier.hdf5\n",
      "29/29 [==============================] - 0s 5ms/step - loss: 0.5278 - accuracy: 0.7975 - val_loss: 0.2293 - val_accuracy: 0.9524\n",
      "Epoch 84/1000\n",
      "15/29 [==============>...............] - ETA: 0s - loss: 0.5316 - accuracy: 0.7958\n",
      "Epoch 84: saving model to /keypoint_classifier.hdf5\n",
      "29/29 [==============================] - 0s 6ms/step - loss: 0.5339 - accuracy: 0.7953 - val_loss: 0.2255 - val_accuracy: 0.9549\n",
      "Epoch 85/1000\n",
      "17/29 [================>.............] - ETA: 0s - loss: 0.5367 - accuracy: 0.7946\n",
      "Epoch 85: saving model to /keypoint_classifier.hdf5\n",
      "29/29 [==============================] - 0s 5ms/step - loss: 0.5283 - accuracy: 0.7986 - val_loss: 0.2258 - val_accuracy: 0.9507\n",
      "Epoch 86/1000\n",
      "18/29 [=================>............] - ETA: 0s - loss: 0.5088 - accuracy: 0.8099\n",
      "Epoch 86: saving model to /keypoint_classifier.hdf5\n",
      "29/29 [==============================] - 0s 6ms/step - loss: 0.5153 - accuracy: 0.8078 - val_loss: 0.2194 - val_accuracy: 0.9490\n",
      "Epoch 87/1000\n",
      "18/29 [=================>............] - ETA: 0s - loss: 0.5116 - accuracy: 0.8121\n",
      "Epoch 87: saving model to /keypoint_classifier.hdf5\n",
      "29/29 [==============================] - 0s 6ms/step - loss: 0.5108 - accuracy: 0.8067 - val_loss: 0.2267 - val_accuracy: 0.9532\n",
      "Epoch 88/1000\n",
      "17/29 [================>.............] - ETA: 0s - loss: 0.5216 - accuracy: 0.7955\n",
      "Epoch 88: saving model to /keypoint_classifier.hdf5\n",
      "29/29 [==============================] - 0s 6ms/step - loss: 0.5232 - accuracy: 0.7928 - val_loss: 0.2291 - val_accuracy: 0.9541\n",
      "Epoch 89/1000\n",
      "18/29 [=================>............] - ETA: 0s - loss: 0.5306 - accuracy: 0.8051\n",
      "Epoch 89: saving model to /keypoint_classifier.hdf5\n",
      "29/29 [==============================] - 0s 5ms/step - loss: 0.5201 - accuracy: 0.8058 - val_loss: 0.2279 - val_accuracy: 0.9507\n",
      "Epoch 90/1000\n",
      "16/29 [===============>..............] - ETA: 0s - loss: 0.5242 - accuracy: 0.8008\n",
      "Epoch 90: saving model to /keypoint_classifier.hdf5\n",
      "29/29 [==============================] - 0s 6ms/step - loss: 0.5140 - accuracy: 0.8061 - val_loss: 0.2221 - val_accuracy: 0.9532\n",
      "Epoch 91/1000\n",
      "17/29 [================>.............] - ETA: 0s - loss: 0.5011 - accuracy: 0.8097\n",
      "Epoch 91: saving model to /keypoint_classifier.hdf5\n",
      "29/29 [==============================] - 0s 6ms/step - loss: 0.4952 - accuracy: 0.8106 - val_loss: 0.2249 - val_accuracy: 0.9515\n",
      "Epoch 92/1000\n",
      "18/29 [=================>............] - ETA: 0s - loss: 0.5158 - accuracy: 0.8047\n",
      "Epoch 92: saving model to /keypoint_classifier.hdf5\n",
      "29/29 [==============================] - 0s 5ms/step - loss: 0.5096 - accuracy: 0.8064 - val_loss: 0.2259 - val_accuracy: 0.9490\n",
      "Epoch 93/1000\n",
      "18/29 [=================>............] - ETA: 0s - loss: 0.4893 - accuracy: 0.8151\n",
      "Epoch 93: saving model to /keypoint_classifier.hdf5\n",
      "29/29 [==============================] - 0s 5ms/step - loss: 0.4948 - accuracy: 0.8162 - val_loss: 0.2106 - val_accuracy: 0.9524\n",
      "Epoch 94/1000\n",
      "18/29 [=================>............] - ETA: 0s - loss: 0.5093 - accuracy: 0.8073\n",
      "Epoch 94: saving model to /keypoint_classifier.hdf5\n",
      "29/29 [==============================] - 0s 5ms/step - loss: 0.4939 - accuracy: 0.8139 - val_loss: 0.2130 - val_accuracy: 0.9549\n",
      "Epoch 95/1000\n",
      "18/29 [=================>............] - ETA: 0s - loss: 0.5157 - accuracy: 0.8151\n",
      "Epoch 95: saving model to /keypoint_classifier.hdf5\n",
      "29/29 [==============================] - 0s 5ms/step - loss: 0.5115 - accuracy: 0.8142 - val_loss: 0.2098 - val_accuracy: 0.9524\n",
      "Epoch 96/1000\n",
      "28/29 [===========================>..] - ETA: 0s - loss: 0.4990 - accuracy: 0.8066\n",
      "Epoch 96: saving model to /keypoint_classifier.hdf5\n",
      "29/29 [==============================] - 0s 6ms/step - loss: 0.4986 - accuracy: 0.8070 - val_loss: 0.2069 - val_accuracy: 0.9524\n",
      "Epoch 97/1000\n",
      "16/29 [===============>..............] - ETA: 0s - loss: 0.5261 - accuracy: 0.7993\n",
      "Epoch 97: saving model to /keypoint_classifier.hdf5\n",
      "29/29 [==============================] - 0s 6ms/step - loss: 0.5054 - accuracy: 0.8081 - val_loss: 0.2018 - val_accuracy: 0.9541\n",
      "Epoch 98/1000\n",
      "17/29 [================>.............] - ETA: 0s - loss: 0.5258 - accuracy: 0.8015\n",
      "Epoch 98: saving model to /keypoint_classifier.hdf5\n",
      "29/29 [==============================] - 0s 6ms/step - loss: 0.5140 - accuracy: 0.8081 - val_loss: 0.2006 - val_accuracy: 0.9591\n",
      "Epoch 99/1000\n",
      "17/29 [================>.............] - ETA: 0s - loss: 0.5281 - accuracy: 0.8074\n",
      "Epoch 99: saving model to /keypoint_classifier.hdf5\n",
      "29/29 [==============================] - 0s 5ms/step - loss: 0.5077 - accuracy: 0.8128 - val_loss: 0.2172 - val_accuracy: 0.9524\n",
      "Epoch 100/1000\n",
      "19/29 [==================>...........] - ETA: 0s - loss: 0.4916 - accuracy: 0.8125\n",
      "Epoch 100: saving model to /keypoint_classifier.hdf5\n",
      "29/29 [==============================] - 0s 6ms/step - loss: 0.4904 - accuracy: 0.8153 - val_loss: 0.2110 - val_accuracy: 0.9524\n",
      "Epoch 101/1000\n",
      "17/29 [================>.............] - ETA: 0s - loss: 0.5130 - accuracy: 0.8153\n",
      "Epoch 101: saving model to /keypoint_classifier.hdf5\n",
      "29/29 [==============================] - 0s 5ms/step - loss: 0.4993 - accuracy: 0.8189 - val_loss: 0.2101 - val_accuracy: 0.9532\n",
      "Epoch 102/1000\n",
      "18/29 [=================>............] - ETA: 0s - loss: 0.4996 - accuracy: 0.8177\n",
      "Epoch 102: saving model to /keypoint_classifier.hdf5\n",
      "29/29 [==============================] - 0s 6ms/step - loss: 0.5068 - accuracy: 0.8128 - val_loss: 0.2058 - val_accuracy: 0.9566\n",
      "Epoch 103/1000\n",
      "16/29 [===============>..............] - ETA: 0s - loss: 0.4864 - accuracy: 0.8228\n",
      "Epoch 103: saving model to /keypoint_classifier.hdf5\n",
      "29/29 [==============================] - 0s 6ms/step - loss: 0.4804 - accuracy: 0.8201 - val_loss: 0.1984 - val_accuracy: 0.9574\n",
      "Epoch 104/1000\n",
      "18/29 [=================>............] - ETA: 0s - loss: 0.4763 - accuracy: 0.8138\n",
      "Epoch 104: saving model to /keypoint_classifier.hdf5\n",
      "29/29 [==============================] - 0s 5ms/step - loss: 0.4856 - accuracy: 0.8111 - val_loss: 0.2076 - val_accuracy: 0.9557\n",
      "Epoch 105/1000\n",
      "19/29 [==================>...........] - ETA: 0s - loss: 0.5282 - accuracy: 0.7928\n",
      "Epoch 105: saving model to /keypoint_classifier.hdf5\n",
      "29/29 [==============================] - 0s 5ms/step - loss: 0.5209 - accuracy: 0.7969 - val_loss: 0.2069 - val_accuracy: 0.9549\n",
      "Epoch 106/1000\n",
      "17/29 [================>.............] - ETA: 0s - loss: 0.4993 - accuracy: 0.8084\n",
      "Epoch 106: saving model to /keypoint_classifier.hdf5\n",
      "29/29 [==============================] - 0s 5ms/step - loss: 0.5109 - accuracy: 0.8084 - val_loss: 0.2035 - val_accuracy: 0.9566\n",
      "Epoch 107/1000\n",
      "18/29 [=================>............] - ETA: 0s - loss: 0.5050 - accuracy: 0.8207\n",
      "Epoch 107: saving model to /keypoint_classifier.hdf5\n",
      "29/29 [==============================] - 0s 5ms/step - loss: 0.5049 - accuracy: 0.8153 - val_loss: 0.2060 - val_accuracy: 0.9591\n",
      "Epoch 108/1000\n",
      "18/29 [=================>............] - ETA: 0s - loss: 0.4916 - accuracy: 0.8242\n",
      "Epoch 108: saving model to /keypoint_classifier.hdf5\n",
      "29/29 [==============================] - 0s 6ms/step - loss: 0.4880 - accuracy: 0.8195 - val_loss: 0.2117 - val_accuracy: 0.9582\n",
      "Epoch 109/1000\n",
      "18/29 [=================>............] - ETA: 0s - loss: 0.5019 - accuracy: 0.8112\n",
      "Epoch 109: saving model to /keypoint_classifier.hdf5\n",
      "29/29 [==============================] - 0s 5ms/step - loss: 0.5078 - accuracy: 0.8075 - val_loss: 0.2046 - val_accuracy: 0.9524\n",
      "Epoch 110/1000\n",
      "18/29 [=================>............] - ETA: 0s - loss: 0.4880 - accuracy: 0.8199\n",
      "Epoch 110: saving model to /keypoint_classifier.hdf5\n",
      "29/29 [==============================] - 0s 5ms/step - loss: 0.5029 - accuracy: 0.8134 - val_loss: 0.2000 - val_accuracy: 0.9574\n",
      "Epoch 111/1000\n",
      "16/29 [===============>..............] - ETA: 0s - loss: 0.4666 - accuracy: 0.8242\n",
      "Epoch 111: saving model to /keypoint_classifier.hdf5\n",
      "29/29 [==============================] - 0s 5ms/step - loss: 0.4830 - accuracy: 0.8189 - val_loss: 0.2042 - val_accuracy: 0.9541\n",
      "Epoch 112/1000\n",
      "15/29 [==============>...............] - ETA: 0s - loss: 0.5146 - accuracy: 0.8005\n",
      "Epoch 112: saving model to /keypoint_classifier.hdf5\n",
      "29/29 [==============================] - 0s 6ms/step - loss: 0.5013 - accuracy: 0.8125 - val_loss: 0.2011 - val_accuracy: 0.9582\n",
      "Epoch 113/1000\n",
      "18/29 [=================>............] - ETA: 0s - loss: 0.4847 - accuracy: 0.8160\n",
      "Epoch 113: saving model to /keypoint_classifier.hdf5\n",
      "29/29 [==============================] - 0s 5ms/step - loss: 0.4853 - accuracy: 0.8175 - val_loss: 0.1965 - val_accuracy: 0.9557\n",
      "Epoch 114/1000\n",
      "18/29 [=================>............] - ETA: 0s - loss: 0.4927 - accuracy: 0.8112\n",
      "Epoch 114: saving model to /keypoint_classifier.hdf5\n",
      "29/29 [==============================] - 0s 6ms/step - loss: 0.4905 - accuracy: 0.8125 - val_loss: 0.1986 - val_accuracy: 0.9549\n",
      "Epoch 115/1000\n",
      "18/29 [=================>............] - ETA: 0s - loss: 0.4925 - accuracy: 0.8190\n",
      "Epoch 115: saving model to /keypoint_classifier.hdf5\n",
      "29/29 [==============================] - 0s 5ms/step - loss: 0.4981 - accuracy: 0.8178 - val_loss: 0.2012 - val_accuracy: 0.9541\n",
      "Epoch 116/1000\n",
      "18/29 [=================>............] - ETA: 0s - loss: 0.5187 - accuracy: 0.7990\n",
      "Epoch 116: saving model to /keypoint_classifier.hdf5\n",
      "29/29 [==============================] - 0s 6ms/step - loss: 0.5037 - accuracy: 0.8056 - val_loss: 0.1987 - val_accuracy: 0.9582\n",
      "Epoch 117/1000\n",
      "16/29 [===============>..............] - ETA: 0s - loss: 0.4892 - accuracy: 0.8105\n",
      "Epoch 117: saving model to /keypoint_classifier.hdf5\n",
      "29/29 [==============================] - 0s 6ms/step - loss: 0.5055 - accuracy: 0.8123 - val_loss: 0.2029 - val_accuracy: 0.9566\n",
      "Epoch 118/1000\n",
      "17/29 [================>.............] - ETA: 0s - loss: 0.4935 - accuracy: 0.8166\n",
      "Epoch 118: saving model to /keypoint_classifier.hdf5\n",
      "29/29 [==============================] - 0s 5ms/step - loss: 0.4970 - accuracy: 0.8125 - val_loss: 0.2011 - val_accuracy: 0.9599\n",
      "Epoch 119/1000\n",
      "18/29 [=================>............] - ETA: 0s - loss: 0.4840 - accuracy: 0.8173\n",
      "Epoch 119: saving model to /keypoint_classifier.hdf5\n",
      "29/29 [==============================] - 0s 5ms/step - loss: 0.4859 - accuracy: 0.8189 - val_loss: 0.1928 - val_accuracy: 0.9574\n",
      "Epoch 120/1000\n",
      "18/29 [=================>............] - ETA: 0s - loss: 0.5144 - accuracy: 0.8086\n",
      "Epoch 120: saving model to /keypoint_classifier.hdf5\n",
      "29/29 [==============================] - 0s 6ms/step - loss: 0.5077 - accuracy: 0.8114 - val_loss: 0.1940 - val_accuracy: 0.9616\n",
      "Epoch 121/1000\n",
      "17/29 [================>.............] - ETA: 0s - loss: 0.4975 - accuracy: 0.8097\n",
      "Epoch 121: saving model to /keypoint_classifier.hdf5\n",
      "29/29 [==============================] - 0s 5ms/step - loss: 0.4905 - accuracy: 0.8131 - val_loss: 0.2001 - val_accuracy: 0.9599\n",
      "Epoch 122/1000\n",
      "17/29 [================>.............] - ETA: 0s - loss: 0.4888 - accuracy: 0.8176\n",
      "Epoch 122: saving model to /keypoint_classifier.hdf5\n",
      "29/29 [==============================] - 0s 5ms/step - loss: 0.5058 - accuracy: 0.8095 - val_loss: 0.2033 - val_accuracy: 0.9582\n",
      "Epoch 123/1000\n",
      "17/29 [================>.............] - ETA: 0s - loss: 0.4896 - accuracy: 0.8240\n",
      "Epoch 123: saving model to /keypoint_classifier.hdf5\n",
      "29/29 [==============================] - 0s 6ms/step - loss: 0.4896 - accuracy: 0.8245 - val_loss: 0.1957 - val_accuracy: 0.9591\n",
      "Epoch 124/1000\n",
      "17/29 [================>.............] - ETA: 0s - loss: 0.5293 - accuracy: 0.8056\n",
      "Epoch 124: saving model to /keypoint_classifier.hdf5\n",
      "29/29 [==============================] - 0s 5ms/step - loss: 0.5025 - accuracy: 0.8139 - val_loss: 0.2072 - val_accuracy: 0.9616\n",
      "Epoch 125/1000\n",
      "27/29 [==========================>...] - ETA: 0s - loss: 0.4983 - accuracy: 0.8128\n",
      "Epoch 125: saving model to /keypoint_classifier.hdf5\n",
      "29/29 [==============================] - 0s 6ms/step - loss: 0.4969 - accuracy: 0.8131 - val_loss: 0.2022 - val_accuracy: 0.9591\n",
      "Epoch 126/1000\n",
      "17/29 [================>.............] - ETA: 0s - loss: 0.4798 - accuracy: 0.8212\n",
      "Epoch 126: saving model to /keypoint_classifier.hdf5\n",
      "29/29 [==============================] - 0s 6ms/step - loss: 0.4855 - accuracy: 0.8206 - val_loss: 0.1999 - val_accuracy: 0.9566\n",
      "Epoch 127/1000\n",
      "19/29 [==================>...........] - ETA: 0s - loss: 0.4879 - accuracy: 0.8178\n",
      "Epoch 127: saving model to /keypoint_classifier.hdf5\n",
      "29/29 [==============================] - 0s 5ms/step - loss: 0.4938 - accuracy: 0.8159 - val_loss: 0.2026 - val_accuracy: 0.9607\n",
      "Epoch 128/1000\n",
      "18/29 [=================>............] - ETA: 0s - loss: 0.4696 - accuracy: 0.8303\n",
      "Epoch 128: saving model to /keypoint_classifier.hdf5\n",
      "29/29 [==============================] - 0s 5ms/step - loss: 0.4848 - accuracy: 0.8242 - val_loss: 0.2087 - val_accuracy: 0.9574\n",
      "Epoch 129/1000\n",
      "18/29 [=================>............] - ETA: 0s - loss: 0.4721 - accuracy: 0.8286\n",
      "Epoch 129: saving model to /keypoint_classifier.hdf5\n",
      "29/29 [==============================] - 0s 5ms/step - loss: 0.4829 - accuracy: 0.8234 - val_loss: 0.2011 - val_accuracy: 0.9574\n",
      "Epoch 130/1000\n",
      "19/29 [==================>...........] - ETA: 0s - loss: 0.4769 - accuracy: 0.8310\n",
      "Epoch 130: saving model to /keypoint_classifier.hdf5\n",
      "29/29 [==============================] - 0s 7ms/step - loss: 0.4857 - accuracy: 0.8237 - val_loss: 0.1996 - val_accuracy: 0.9591\n",
      "Epoch 131/1000\n",
      "27/29 [==========================>...] - ETA: 0s - loss: 0.4710 - accuracy: 0.8273\n",
      "Epoch 131: saving model to /keypoint_classifier.hdf5\n",
      "29/29 [==============================] - 0s 9ms/step - loss: 0.4735 - accuracy: 0.8273 - val_loss: 0.1964 - val_accuracy: 0.9591\n",
      "Epoch 132/1000\n",
      "26/29 [=========================>....] - ETA: 0s - loss: 0.4890 - accuracy: 0.8161\n",
      "Epoch 132: saving model to /keypoint_classifier.hdf5\n",
      "29/29 [==============================] - 0s 9ms/step - loss: 0.4879 - accuracy: 0.8159 - val_loss: 0.1990 - val_accuracy: 0.9591\n",
      "Epoch 133/1000\n",
      "29/29 [==============================] - ETA: 0s - loss: 0.4685 - accuracy: 0.8273\n",
      "Epoch 133: saving model to /keypoint_classifier.hdf5\n",
      "29/29 [==============================] - 0s 8ms/step - loss: 0.4685 - accuracy: 0.8273 - val_loss: 0.1987 - val_accuracy: 0.9566\n",
      "Epoch 134/1000\n",
      "26/29 [=========================>....] - ETA: 0s - loss: 0.4752 - accuracy: 0.8203\n",
      "Epoch 134: saving model to /keypoint_classifier.hdf5\n",
      "29/29 [==============================] - 0s 9ms/step - loss: 0.4722 - accuracy: 0.8217 - val_loss: 0.1985 - val_accuracy: 0.9591\n",
      "Epoch 135/1000\n",
      "24/29 [=======================>......] - ETA: 0s - loss: 0.4738 - accuracy: 0.8242\n",
      "Epoch 135: saving model to /keypoint_classifier.hdf5\n",
      "29/29 [==============================] - 0s 9ms/step - loss: 0.4769 - accuracy: 0.8234 - val_loss: 0.1888 - val_accuracy: 0.9566\n",
      "Epoch 136/1000\n",
      "23/29 [======================>.......] - ETA: 0s - loss: 0.4757 - accuracy: 0.8203\n",
      "Epoch 136: saving model to /keypoint_classifier.hdf5\n",
      "29/29 [==============================] - 0s 9ms/step - loss: 0.4841 - accuracy: 0.8189 - val_loss: 0.1905 - val_accuracy: 0.9549\n",
      "Epoch 137/1000\n",
      "26/29 [=========================>....] - ETA: 0s - loss: 0.4801 - accuracy: 0.8227\n",
      "Epoch 137: saving model to /keypoint_classifier.hdf5\n",
      "29/29 [==============================] - 0s 9ms/step - loss: 0.4823 - accuracy: 0.8209 - val_loss: 0.1954 - val_accuracy: 0.9582\n",
      "Epoch 138/1000\n",
      "27/29 [==========================>...] - ETA: 0s - loss: 0.4752 - accuracy: 0.8226\n",
      "Epoch 138: saving model to /keypoint_classifier.hdf5\n",
      "29/29 [==============================] - 0s 8ms/step - loss: 0.4746 - accuracy: 0.8212 - val_loss: 0.1922 - val_accuracy: 0.9616\n",
      "Epoch 139/1000\n",
      "24/29 [=======================>......] - ETA: 0s - loss: 0.5084 - accuracy: 0.8070\n",
      "Epoch 139: saving model to /keypoint_classifier.hdf5\n",
      "29/29 [==============================] - 0s 9ms/step - loss: 0.4989 - accuracy: 0.8081 - val_loss: 0.1915 - val_accuracy: 0.9624\n",
      "Epoch 140/1000\n",
      "25/29 [========================>.....] - ETA: 0s - loss: 0.4841 - accuracy: 0.8256\n",
      "Epoch 140: saving model to /keypoint_classifier.hdf5\n",
      "29/29 [==============================] - 0s 10ms/step - loss: 0.4823 - accuracy: 0.8231 - val_loss: 0.1893 - val_accuracy: 0.9641\n",
      "Epoch 141/1000\n",
      "16/29 [===============>..............] - ETA: 0s - loss: 0.4577 - accuracy: 0.8267\n",
      "Epoch 141: saving model to /keypoint_classifier.hdf5\n",
      "29/29 [==============================] - 0s 6ms/step - loss: 0.4801 - accuracy: 0.8212 - val_loss: 0.2063 - val_accuracy: 0.9574\n",
      "Epoch 142/1000\n",
      "16/29 [===============>..............] - ETA: 0s - loss: 0.4779 - accuracy: 0.8237\n",
      "Epoch 142: saving model to /keypoint_classifier.hdf5\n",
      "29/29 [==============================] - 0s 6ms/step - loss: 0.4698 - accuracy: 0.8270 - val_loss: 0.1960 - val_accuracy: 0.9566\n",
      "Epoch 143/1000\n",
      "17/29 [================>.............] - ETA: 0s - loss: 0.4814 - accuracy: 0.8199\n",
      "Epoch 143: saving model to /keypoint_classifier.hdf5\n",
      "29/29 [==============================] - 0s 6ms/step - loss: 0.4855 - accuracy: 0.8131 - val_loss: 0.1867 - val_accuracy: 0.9599\n",
      "Epoch 144/1000\n",
      "16/29 [===============>..............] - ETA: 0s - loss: 0.4957 - accuracy: 0.8052\n",
      "Epoch 144: saving model to /keypoint_classifier.hdf5\n",
      "29/29 [==============================] - 0s 6ms/step - loss: 0.4960 - accuracy: 0.8106 - val_loss: 0.1924 - val_accuracy: 0.9574\n",
      "Epoch 145/1000\n",
      "18/29 [=================>............] - ETA: 0s - loss: 0.4810 - accuracy: 0.8190\n",
      "Epoch 145: saving model to /keypoint_classifier.hdf5\n",
      "29/29 [==============================] - 0s 5ms/step - loss: 0.4796 - accuracy: 0.8203 - val_loss: 0.1868 - val_accuracy: 0.9599\n",
      "Epoch 146/1000\n",
      "17/29 [================>.............] - ETA: 0s - loss: 0.4468 - accuracy: 0.8244\n",
      "Epoch 146: saving model to /keypoint_classifier.hdf5\n",
      "29/29 [==============================] - 0s 6ms/step - loss: 0.4664 - accuracy: 0.8259 - val_loss: 0.1843 - val_accuracy: 0.9607\n",
      "Epoch 147/1000\n",
      "18/29 [=================>............] - ETA: 0s - loss: 0.4849 - accuracy: 0.8229\n",
      "Epoch 147: saving model to /keypoint_classifier.hdf5\n",
      "29/29 [==============================] - 0s 6ms/step - loss: 0.4865 - accuracy: 0.8203 - val_loss: 0.1873 - val_accuracy: 0.9616\n",
      "Epoch 148/1000\n",
      "17/29 [================>.............] - ETA: 0s - loss: 0.4805 - accuracy: 0.8180\n",
      "Epoch 148: saving model to /keypoint_classifier.hdf5\n",
      "29/29 [==============================] - 0s 6ms/step - loss: 0.4626 - accuracy: 0.8292 - val_loss: 0.1886 - val_accuracy: 0.9641\n",
      "Epoch 149/1000\n",
      "17/29 [================>.............] - ETA: 0s - loss: 0.4643 - accuracy: 0.8290\n",
      "Epoch 149: saving model to /keypoint_classifier.hdf5\n",
      "29/29 [==============================] - 0s 6ms/step - loss: 0.4755 - accuracy: 0.8220 - val_loss: 0.1863 - val_accuracy: 0.9599\n",
      "Epoch 150/1000\n",
      "18/29 [=================>............] - ETA: 0s - loss: 0.4488 - accuracy: 0.8277\n",
      "Epoch 150: saving model to /keypoint_classifier.hdf5\n",
      "29/29 [==============================] - 0s 6ms/step - loss: 0.4703 - accuracy: 0.8181 - val_loss: 0.1879 - val_accuracy: 0.9632\n",
      "Epoch 151/1000\n",
      "16/29 [===============>..............] - ETA: 0s - loss: 0.4464 - accuracy: 0.8315\n",
      "Epoch 151: saving model to /keypoint_classifier.hdf5\n",
      "29/29 [==============================] - 0s 6ms/step - loss: 0.4687 - accuracy: 0.8217 - val_loss: 0.1901 - val_accuracy: 0.9566\n",
      "Epoch 152/1000\n",
      "17/29 [================>.............] - ETA: 0s - loss: 0.4936 - accuracy: 0.8153\n",
      "Epoch 152: saving model to /keypoint_classifier.hdf5\n",
      "29/29 [==============================] - 0s 6ms/step - loss: 0.4894 - accuracy: 0.8145 - val_loss: 0.1812 - val_accuracy: 0.9674\n",
      "Epoch 153/1000\n",
      "15/29 [==============>...............] - ETA: 0s - loss: 0.4862 - accuracy: 0.8250\n",
      "Epoch 153: saving model to /keypoint_classifier.hdf5\n",
      "29/29 [==============================] - 0s 6ms/step - loss: 0.4746 - accuracy: 0.8226 - val_loss: 0.1851 - val_accuracy: 0.9624\n",
      "Epoch 154/1000\n",
      "17/29 [================>.............] - ETA: 0s - loss: 0.4781 - accuracy: 0.8226\n",
      "Epoch 154: saving model to /keypoint_classifier.hdf5\n",
      "29/29 [==============================] - 0s 6ms/step - loss: 0.4647 - accuracy: 0.8298 - val_loss: 0.1929 - val_accuracy: 0.9591\n",
      "Epoch 155/1000\n",
      "17/29 [================>.............] - ETA: 0s - loss: 0.4786 - accuracy: 0.8125\n",
      "Epoch 155: saving model to /keypoint_classifier.hdf5\n",
      "29/29 [==============================] - 0s 6ms/step - loss: 0.4741 - accuracy: 0.8228 - val_loss: 0.1937 - val_accuracy: 0.9582\n",
      "Epoch 156/1000\n",
      "18/29 [=================>............] - ETA: 0s - loss: 0.4569 - accuracy: 0.8355\n",
      "Epoch 156: saving model to /keypoint_classifier.hdf5\n",
      "29/29 [==============================] - 0s 6ms/step - loss: 0.4663 - accuracy: 0.8259 - val_loss: 0.1859 - val_accuracy: 0.9566\n",
      "Epoch 157/1000\n",
      "17/29 [================>.............] - ETA: 0s - loss: 0.4551 - accuracy: 0.8277\n",
      "Epoch 157: saving model to /keypoint_classifier.hdf5\n",
      "29/29 [==============================] - 0s 5ms/step - loss: 0.4719 - accuracy: 0.8209 - val_loss: 0.1866 - val_accuracy: 0.9591\n",
      "Epoch 158/1000\n",
      "17/29 [================>.............] - ETA: 0s - loss: 0.4478 - accuracy: 0.8336\n",
      "Epoch 158: saving model to /keypoint_classifier.hdf5\n",
      "29/29 [==============================] - 0s 6ms/step - loss: 0.4600 - accuracy: 0.8262 - val_loss: 0.1828 - val_accuracy: 0.9624\n",
      "Epoch 159/1000\n",
      "17/29 [================>.............] - ETA: 0s - loss: 0.4975 - accuracy: 0.8051\n",
      "Epoch 159: saving model to /keypoint_classifier.hdf5\n",
      "29/29 [==============================] - 0s 6ms/step - loss: 0.4908 - accuracy: 0.8061 - val_loss: 0.1925 - val_accuracy: 0.9599\n",
      "Epoch 160/1000\n",
      "16/29 [===============>..............] - ETA: 0s - loss: 0.4666 - accuracy: 0.8193\n",
      "Epoch 160: saving model to /keypoint_classifier.hdf5\n",
      "29/29 [==============================] - 0s 6ms/step - loss: 0.4665 - accuracy: 0.8231 - val_loss: 0.1837 - val_accuracy: 0.9607\n",
      "Epoch 161/1000\n",
      "17/29 [================>.............] - ETA: 0s - loss: 0.4621 - accuracy: 0.8290\n",
      "Epoch 161: saving model to /keypoint_classifier.hdf5\n",
      "29/29 [==============================] - 0s 6ms/step - loss: 0.4777 - accuracy: 0.8212 - val_loss: 0.1856 - val_accuracy: 0.9582\n",
      "Epoch 162/1000\n",
      "15/29 [==============>...............] - ETA: 0s - loss: 0.4648 - accuracy: 0.8333\n",
      "Epoch 162: saving model to /keypoint_classifier.hdf5\n",
      "29/29 [==============================] - 0s 6ms/step - loss: 0.4585 - accuracy: 0.8365 - val_loss: 0.1904 - val_accuracy: 0.9574\n",
      "Epoch 163/1000\n",
      "18/29 [=================>............] - ETA: 0s - loss: 0.4578 - accuracy: 0.8338\n",
      "Epoch 163: saving model to /keypoint_classifier.hdf5\n",
      "29/29 [==============================] - 0s 6ms/step - loss: 0.4562 - accuracy: 0.8331 - val_loss: 0.1843 - val_accuracy: 0.9582\n",
      "Epoch 164/1000\n",
      "17/29 [================>.............] - ETA: 0s - loss: 0.4554 - accuracy: 0.8396\n",
      "Epoch 164: saving model to /keypoint_classifier.hdf5\n",
      "29/29 [==============================] - 0s 6ms/step - loss: 0.4600 - accuracy: 0.8323 - val_loss: 0.1852 - val_accuracy: 0.9599\n",
      "Epoch 165/1000\n",
      "17/29 [================>.............] - ETA: 0s - loss: 0.4655 - accuracy: 0.8318\n",
      "Epoch 165: saving model to /keypoint_classifier.hdf5\n",
      "29/29 [==============================] - 0s 5ms/step - loss: 0.4652 - accuracy: 0.8320 - val_loss: 0.1844 - val_accuracy: 0.9566\n",
      "Epoch 166/1000\n",
      "18/29 [=================>............] - ETA: 0s - loss: 0.4714 - accuracy: 0.8181\n",
      "Epoch 166: saving model to /keypoint_classifier.hdf5\n",
      "29/29 [==============================] - 0s 5ms/step - loss: 0.4799 - accuracy: 0.8162 - val_loss: 0.1897 - val_accuracy: 0.9582\n",
      "Epoch 167/1000\n",
      "17/29 [================>.............] - ETA: 0s - loss: 0.4676 - accuracy: 0.8332\n",
      "Epoch 167: saving model to /keypoint_classifier.hdf5\n",
      "29/29 [==============================] - 0s 6ms/step - loss: 0.4691 - accuracy: 0.8281 - val_loss: 0.1901 - val_accuracy: 0.9566\n",
      "Epoch 168/1000\n",
      "15/29 [==============>...............] - ETA: 0s - loss: 0.4431 - accuracy: 0.8443\n",
      "Epoch 168: saving model to /keypoint_classifier.hdf5\n",
      "29/29 [==============================] - 0s 6ms/step - loss: 0.4661 - accuracy: 0.8295 - val_loss: 0.1888 - val_accuracy: 0.9582\n",
      "Epoch 169/1000\n",
      "18/29 [=================>............] - ETA: 0s - loss: 0.4314 - accuracy: 0.8459\n",
      "Epoch 169: saving model to /keypoint_classifier.hdf5\n",
      "29/29 [==============================] - 0s 5ms/step - loss: 0.4465 - accuracy: 0.8365 - val_loss: 0.1861 - val_accuracy: 0.9574\n",
      "Epoch 170/1000\n",
      "16/29 [===============>..............] - ETA: 0s - loss: 0.4638 - accuracy: 0.8286\n",
      "Epoch 170: saving model to /keypoint_classifier.hdf5\n",
      "29/29 [==============================] - 0s 6ms/step - loss: 0.4517 - accuracy: 0.8359 - val_loss: 0.1939 - val_accuracy: 0.9607\n",
      "Epoch 171/1000\n",
      "17/29 [================>.............] - ETA: 0s - loss: 0.4707 - accuracy: 0.8263\n",
      "Epoch 171: saving model to /keypoint_classifier.hdf5\n",
      "29/29 [==============================] - 0s 6ms/step - loss: 0.4701 - accuracy: 0.8304 - val_loss: 0.1874 - val_accuracy: 0.9616\n",
      "Epoch 172/1000\n",
      "16/29 [===============>..............] - ETA: 0s - loss: 0.4487 - accuracy: 0.8359\n",
      "Epoch 172: saving model to /keypoint_classifier.hdf5\n",
      "29/29 [==============================] - 0s 6ms/step - loss: 0.4628 - accuracy: 0.8284 - val_loss: 0.1902 - val_accuracy: 0.9607\n",
      "Epoch 172: early stopping\n"
     ]
    },
    {
     "data": {
      "text/plain": [
       "<keras.callbacks.History at 0x7f66785575e0>"
      ]
     },
     "execution_count": 18,
     "metadata": {},
     "output_type": "execute_result"
    }
   ],
   "source": [
    "model.fit(\n",
    "    X_train,\n",
    "    y_train,\n",
    "    epochs=1000,\n",
    "    batch_size=128,\n",
    "    validation_data=(X_test, y_test),\n",
    "    callbacks=[cp_callback, es_callback]\n",
    ")"
   ]
  },
  {
   "cell_type": "code",
   "execution_count": 19,
   "metadata": {
    "colab": {
     "base_uri": "https://localhost:8080/"
    },
    "id": "pxvb2Y299hE3",
    "outputId": "e79955e6-1d8e-4909-de4f-6579758ff229"
   },
   "outputs": [
    {
     "name": "stdout",
     "output_type": "stream",
     "text": [
      "10/10 [==============================] - 0s 4ms/step - loss: 0.1902 - accuracy: 0.9607\n"
     ]
    }
   ],
   "source": [
    "# Model evaluation\n",
    "val_loss, val_acc = model.evaluate(X_test, y_test, batch_size=128)"
   ]
  },
  {
   "cell_type": "code",
   "execution_count": 20,
   "metadata": {
    "id": "RBkmDeUW9hE4"
   },
   "outputs": [],
   "source": [
    "# Loading the saved model\n",
    "model = tf.keras.models.load_model(model_save_path)"
   ]
  },
  {
   "cell_type": "code",
   "execution_count": 21,
   "metadata": {
    "colab": {
     "base_uri": "https://localhost:8080/"
    },
    "id": "tFz9Tb0I9hE4",
    "outputId": "a94af853-09ed-4c98-946f-05bc036c00e4"
   },
   "outputs": [
    {
     "name": "stdout",
     "output_type": "stream",
     "text": [
      "1/1 [==============================] - 0s 136ms/step\n",
      "[9.8722643e-01 1.2245225e-02 4.4698679e-04 8.1376413e-05]\n",
      "0\n"
     ]
    }
   ],
   "source": [
    "# Inference test\n",
    "predict_result = model.predict(np.array([X_test[0]]))\n",
    "print(np.squeeze(predict_result))\n",
    "print(np.argmax(np.squeeze(predict_result)))"
   ]
  },
  {
   "cell_type": "markdown",
   "metadata": {
    "id": "S3U4yNWx9hE4"
   },
   "source": [
    "# Confusion matrix"
   ]
  },
  {
   "cell_type": "code",
   "execution_count": 22,
   "metadata": {
    "colab": {
     "base_uri": "https://localhost:8080/",
     "height": 600
    },
    "id": "AP1V6SCk9hE5",
    "outputId": "2051c530-df9b-4650-8403-0f0272d775e9"
   },
   "outputs": [
    {
     "name": "stdout",
     "output_type": "stream",
     "text": [
      "38/38 [==============================] - 0s 1ms/step\n"
     ]
    },
    {
     "data": {
      "image/png": "[encoded data removed]",
      "text/plain": [
       "<Figure size 504x432 with 2 Axes>"
      ]
     },
     "metadata": {
      "needs_background": "light"
     },
     "output_type": "display_data"
    },
    {
     "name": "stdout",
     "output_type": "stream",
     "text": [
      "Classification Report\n",
      "              precision    recall  f1-score   support\n",
      "\n",
      "           0       0.98      0.99      0.99       402\n",
      "           1       0.99      0.89      0.94       366\n",
      "           2       0.91      0.99      0.95       343\n",
      "           3       0.98      1.00      0.99        86\n",
      "\n",
      "    accuracy                           0.96      1197\n",
      "   macro avg       0.96      0.97      0.97      1197\n",
      "weighted avg       0.96      0.96      0.96      1197\n",
      "\n"
     ]
    }
   ],
   "source": [
    "import pandas as pd\n",
    "import seaborn as sns\n",
    "import matplotlib.pyplot as plt\n",
    "from sklearn.metrics import confusion_matrix, classification_report\n",
    "\n",
    "def print_confusion_matrix(y_true, y_pred, report=True):\n",
    "    labels = sorted(list(set(y_true)))\n",
    "    cmx_data = confusion_matrix(y_true, y_pred, labels=labels)\n",
    "    \n",
    "    df_cmx = pd.DataFrame(cmx_data, index=labels, columns=labels)\n",
    " \n",
    "    fig, ax = plt.subplots(figsize=(7, 6))\n",
    "    sns.heatmap(df_cmx, annot=True, fmt='g' ,square=False)\n",
    "    ax.set_ylim(len(set(y_true)), 0)\n",
    "    plt.show()\n",
    "    \n",
    "    if report:\n",
    "        print('Classification Report')\n",
    "        print(classification_report(y_test, y_pred))\n",
    "\n",
    "Y_pred = model.predict(X_test)\n",
    "y_pred = np.argmax(Y_pred, axis=1)\n",
    "\n",
    "print_confusion_matrix(y_test, y_pred)"
   ]
  },
  {
   "cell_type": "markdown",
   "metadata": {
    "id": "FNP6aqzc9hE5"
   },
   "source": [
    "# Convert to model for Tensorflow-Lite"
   ]
  },
  {
   "cell_type": "code",
   "execution_count": 23,
   "metadata": {
    "id": "ODjnYyld9hE6"
   },
   "outputs": [],
   "source": [
    "# Save as a model dedicated to inference\n",
    "model.save(model_save_path, include_optimizer=False)"
   ]
  },
  {
   "cell_type": "code",
   "execution_count": 24,
   "metadata": {
    "colab": {
     "base_uri": "https://localhost:8080/"
    },
    "id": "zRfuK8Y59hE6",
    "outputId": "a3774181-073e-4035-940c-a156f4139a1a"
   },
   "outputs": [
    {
     "name": "stderr",
     "output_type": "stream",
     "text": [
      "WARNING:absl:Found untraced functions such as _update_step_xla while saving (showing 1 of 1). These functions will not be directly callable after loading.\n"
     ]
    },
    {
     "data": {
      "text/plain": [
       "6544"
      ]
     },
     "execution_count": 24,
     "metadata": {},
     "output_type": "execute_result"
    }
   ],
   "source": [
    "# Transform model (quantization)\n",
    "\n",
    "converter = tf.lite.TFLiteConverter.from_keras_model(model)\n",
    "converter.optimizations = [tf.lite.Optimize.DEFAULT]\n",
    "tflite_quantized_model = converter.convert()\n",
    "\n",
    "open(tflite_save_path, 'wb').write(tflite_quantized_model)"
   ]
  },
  {
   "cell_type": "markdown",
   "metadata": {
    "id": "CHBPBXdx9hE6"
   },
   "source": [
    "# Inference test"
   ]
  },
  {
   "cell_type": "code",
   "execution_count": 25,
   "metadata": {
    "id": "mGAzLocO9hE7"
   },
   "outputs": [],
   "source": [
    "interpreter = tf.lite.Interpreter(model_path=tflite_save_path)\n",
    "interpreter.allocate_tensors()"
   ]
  },
  {
   "cell_type": "code",
   "execution_count": 26,
   "metadata": {
    "id": "oQuDK8YS9hE7"
   },
   "outputs": [],
   "source": [
    "# Get I / O tensor\n",
    "input_details = interpreter.get_input_details()\n",
    "output_details = interpreter.get_output_details()"
   ]
  },
  {
   "cell_type": "code",
   "execution_count": 27,
   "metadata": {
    "id": "2_ixAf_l9hE7"
   },
   "outputs": [],
   "source": [
    "interpreter.set_tensor(input_details[0]['index'], np.array([X_test[0]]))"
   ]
  },
  {
   "cell_type": "code",
   "execution_count": 28,
   "metadata": {
    "colab": {
     "base_uri": "https://localhost:8080/"
    },
    "id": "s4FoAnuc9hE7",
    "outputId": "bb87439e-df8f-4ffa-8ab5-d63ffc06bac2",
    "scrolled": true
   },
   "outputs": [
    {
     "name": "stdout",
     "output_type": "stream",
     "text": [
      "CPU times: user 1.1 ms, sys: 127 µs, total: 1.22 ms\n",
      "Wall time: 3.9 ms\n"
     ]
    }
   ],
   "source": [
    "%%time\n",
    "# Inference implementation\n",
    "interpreter.invoke()\n",
    "tflite_results = interpreter.get_tensor(output_details[0]['index'])"
   ]
  },
  {
   "cell_type": "code",
   "execution_count": 29,
   "metadata": {
    "colab": {
     "base_uri": "https://localhost:8080/"
    },
    "id": "vONjp19J9hE8",
    "outputId": "f5be1ee0-4d60-408a-9146-c9f3c260b392"
   },
   "outputs": [
    {
     "name": "stdout",
     "output_type": "stream",
     "text": [
      "[9.8722643e-01 1.2245218e-02 4.4698635e-04 8.1376340e-05]\n",
      "0\n"
     ]
    }
   ],
   "source": [
    "print(np.squeeze(tflite_results))\n",
    "print(np.argmax(np.squeeze(tflite_results)))"
   ]
  }
 ],
 "metadata": {
  "accelerator": "GPU",
  "colab": {
   "provenance": []
  },
  "kernelspec": {
   "display_name": "Python 3 (ipykernel)",
   "language": "python",
   "name": "python3"
  },
  "language_info": {
   "codemirror_mode": {
    "name": "ipython",
    "version": 3
   },
   "file_extension": ".py",
   "mimetype": "text/x-python",
   "name": "python",
   "nbconvert_exporter": "python",
   "pygments_lexer": "ipython3",
   "version": "3.9.15"
  }
 },
 "nbformat": 4,
 "nbformat_minor": 1
}
